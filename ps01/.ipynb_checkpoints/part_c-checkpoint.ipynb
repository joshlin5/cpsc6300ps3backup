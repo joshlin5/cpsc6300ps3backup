{
 "cells": [
  {
   "cell_type": "markdown",
   "metadata": {},
   "source": [
    "# CPSC 4300/6300-001 Applied Data Science (Fall 2020)\n",
    "\n",
    "Before you turn this problem in, make sure everything runs as expected. First, **restart the kernel** (in the menubar, select Kernel$\\rightarrow$Restart) and then **run all cells** (in the menubar, select Cell$\\rightarrow$Run All).\n",
    "\n",
    "Make sure you fill in any place that says `YOUR CODE HERE` or \"YOUR ANSWER HERE\", as well as your name and collaborators below:"
   ]
  },
  {
   "cell_type": "code",
   "execution_count": 1,
   "metadata": {},
   "outputs": [],
   "source": [
    "NAME = \"Joshua Lin\"\n",
    "COLLABORATORS = \"\""
   ]
  },
  {
   "cell_type": "markdown",
   "metadata": {},
   "source": [
    "# CPSC4300/6300-001 Problem Set #1"
   ]
  },
  {
   "cell_type": "markdown",
   "metadata": {},
   "source": [
    "In this assignment, you will create a NCAA College Football team dataset by scraping data from the Internet and perform some basic data manipulations. The assignment has four parts: the first three are auto-graded. Th elast part is manually graded by the TA. \n",
    "\n",
    "Before submission, make sure you run all the cells. Because the TA could not run your notebook, your grade will be only based on the output and the writing part of your submitted notebook. "
   ]
  },
  {
   "cell_type": "markdown",
   "metadata": {},
   "source": [
    "## Part C. Extract the Rosters for ALL ACC Teams (10 points).\n",
    "\n",
    "Using the function `extract_team_roster` and `acc_teams.json` file, write code statements that extract the rosters of all the ACC concerence team and save the rosters into a file named `acc_rosters.json`."
   ]
  },
  {
   "cell_type": "code",
   "execution_count": 2,
   "metadata": {},
   "outputs": [],
   "source": [
    "import os\n",
    "import json\n",
    "import pandas as pd\n",
    "import numpy as np\n",
    "from roster import extract_team_roster"
   ]
  },
  {
   "cell_type": "markdown",
   "metadata": {},
   "source": [
    "### Question 1: Get List of ACC Teams\n",
    "\n",
    "Read the `acc_teams.json` file into a pandas DataFrame object and save the list of ACC teams into a list of tuples (team_id, team_name) named `acc_teams`. (3 points)"
   ]
  },
  {
   "cell_type": "code",
   "execution_count": 3,
   "metadata": {
    "deletable": false,
    "nbgrader": {
     "cell_type": "code",
     "checksum": "ba350fb51b2e2e93370e0e311b939a0e",
     "grade": false,
     "grade_id": "cell-25bc3da3a4e2b06b",
     "locked": false,
     "schema_version": 3,
     "solution": true,
     "task": false
    }
   },
   "outputs": [
    {
     "name": "stdout",
     "output_type": "stream",
     "text": [
      "[(103, 'Boston College Eagles'), (228, 'Clemson Tigers'), (150, 'Duke Blue Devils'), (52, 'Florida State Seminoles'), (59, 'Georgia Tech Yellow Jackets'), (97, 'Louisville Cardinals'), (2390, 'Miami Hurricanes'), (152, 'NC State Wolfpack'), (153, 'North Carolina Tar Heels'), (87, 'Notre Dame Fighting Irish'), (221, 'Pittsburgh Panthers'), (183, 'Syracuse Orange'), (258, 'Virginia Cavaliers'), (259, 'Virginia Tech Hokies'), (154, 'Wake Forest Demon Deacons')]\n"
     ]
    }
   ],
   "source": [
    "acc_teams = []\n",
    "# YOUR CODE HERE\n",
    "#raise NotImplementedError()\n",
    "teams1 = pd.read_json (r'acc_teams.json')\n",
    "with open('acc_teams.json') as jsonfile:\n",
    "    teams2 = json.load(jsonfile)\n",
    "for teams in teams2 :\n",
    "    for teamsB in teams2[teams] :\n",
    "        if teams2[teams][teamsB] != 'ACC' :\n",
    "            acc_teams.append((int(teamsB), teams2[teams][teamsB]))\n",
    "print(acc_teams)"
   ]
  },
  {
   "cell_type": "code",
   "execution_count": 4,
   "metadata": {
    "deletable": false,
    "editable": false,
    "nbgrader": {
     "cell_type": "code",
     "checksum": "c8375faa3f3c9c5028f693bed052c685",
     "grade": true,
     "grade_id": "cell-2ace197290028d99",
     "locked": true,
     "points": 2,
     "schema_version": 3,
     "solution": false,
     "task": false
    }
   },
   "outputs": [],
   "source": [
    "assert len(acc_teams) == 15\n",
    "assert 258 in [team[0] for team in acc_teams]\n",
    "assert 'Boston College Eagles' in [team[1] for team in acc_teams]"
   ]
  },
  {
   "cell_type": "markdown",
   "metadata": {},
   "source": [
    "### Question 2: Extract Rosters for All ACC Teams\n",
    "\n",
    "Extract the rosters for all acc teams and save the roster in a variable `team_rosters`. `team_rosters` should be a list of `dict` objects, in which each `dict` object has three keys: `team_id`, `team_name`, and `roster` and the values corresponding to each key.  (5 points)"
   ]
  },
  {
   "cell_type": "code",
   "execution_count": 21,
   "metadata": {
    "deletable": false,
    "nbgrader": {
     "cell_type": "code",
     "checksum": "32dcccf18f8288b9f061ac2b1dac3601",
     "grade": false,
     "grade_id": "cell-e4cdf3b968fcf96e",
     "locked": false,
     "schema_version": 3,
     "solution": true,
     "task": false
    }
   },
   "outputs": [],
   "source": [
    "team_rosters = []\n",
    "\n",
    "# YOUR CODE HERE\n",
    "#raise NotImplementedError()\n",
    "for teams in acc_teams :\n",
    "    #print(teams[0])\n",
    "    #print(teams[1])\n",
    "    new_Dict = {}\n",
    "    new_Dict[\"team_id\"] = teams[0]\n",
    "    new_Dict[\"team_name\"] = teams[1]\n",
    "    new_Dict[\"roster\"] = extract_team_roster(teams[0], teams[1])\n",
    "    team_rosters.append(new_Dict)\n",
    "#len(team_rosters)"
   ]
  },
  {
   "cell_type": "code",
   "execution_count": 22,
   "metadata": {},
   "outputs": [
    {
     "name": "stdout",
     "output_type": "stream",
     "text": [
      "True\n"
     ]
    }
   ],
   "source": [
    "#team_roster = team_rosters[0]\n",
    "#print(team_roster)\n",
    "#print(\"team_id\" in team_roster)"
   ]
  },
  {
   "cell_type": "code",
   "execution_count": 23,
   "metadata": {
    "deletable": false,
    "editable": false,
    "nbgrader": {
     "cell_type": "code",
     "checksum": "8955c0e741425f3aa09ded6c8913e02d",
     "grade": true,
     "grade_id": "cell-bd5cf3162dfd3468",
     "locked": true,
     "points": 2,
     "schema_version": 3,
     "solution": false,
     "task": false
    }
   },
   "outputs": [],
   "source": [
    "assert len(team_rosters) == 15\n",
    "team_roster = team_rosters[0]\n",
    "assert \"team_id\" in team_roster and \"team_name\" in team_roster and \"roster\" in team_roster"
   ]
  },
  {
   "cell_type": "code",
   "execution_count": 24,
   "metadata": {
    "deletable": false,
    "editable": false,
    "nbgrader": {
     "cell_type": "code",
     "checksum": "7a686968ad6d1ad78a59ec2d2b819346",
     "grade": true,
     "grade_id": "cell-72092728dda3c0e9",
     "locked": true,
     "points": 3,
     "schema_version": 3,
     "solution": false,
     "task": false
    }
   },
   "outputs": [],
   "source": [
    "team_roster = [team for team in team_rosters if team[\"team_id\"] == 150][0][\"roster\"]\n",
    "assert 'Chase Brice' in [player['player_name'] for player in team_roster]"
   ]
  },
  {
   "cell_type": "markdown",
   "metadata": {},
   "source": [
    "## Question 3. Save the Rosters to a JSON File.\n",
    "\n",
    "Write code segment to save the rosters of all ACC team to a JSON File named 'acc_team_rosters.json`. (2 points)"
   ]
  },
  {
   "cell_type": "code",
   "execution_count": 33,
   "metadata": {
    "deletable": false,
    "nbgrader": {
     "cell_type": "code",
     "checksum": "74fb470e3c053f1144aa010075277ba8",
     "grade": false,
     "grade_id": "cell-10623165caf7e055",
     "locked": false,
     "schema_version": 3,
     "solution": true,
     "task": false
    }
   },
   "outputs": [
    {
     "name": "stdout",
     "output_type": "stream",
     "text": [
      "<class 'str'>\n",
      "<class 'str'>\n",
      "<class 'str'>\n",
      "<class 'str'>\n",
      "<class 'str'>\n",
      "<class 'str'>\n",
      "<class 'str'>\n",
      "<class 'str'>\n",
      "<class 'str'>\n",
      "<class 'str'>\n",
      "<class 'str'>\n",
      "<class 'str'>\n",
      "<class 'str'>\n",
      "<class 'str'>\n",
      "<class 'str'>\n"
     ]
    }
   ],
   "source": [
    "# YOUR CODE HERE\n",
    "#raise NotImplementedError()\n",
    "with open('acc_team_rosters.json', 'w') as fp:\n",
    "    for team in team_rosters :\n",
    "        json.dump(team, fp)"
   ]
  },
  {
   "cell_type": "code",
   "execution_count": 27,
   "metadata": {},
   "outputs": [
    {
     "name": "stdout",
     "output_type": "stream",
     "text": [
      "cat: acc_team_rosters.json: No such file or directory\r\n"
     ]
    }
   ],
   "source": [
    "!cat \"acc_team_rosters.json\""
   ]
  },
  {
   "cell_type": "code",
   "execution_count": null,
   "metadata": {
    "deletable": false,
    "editable": false,
    "nbgrader": {
     "cell_type": "code",
     "checksum": "71c2db4ffdb94f040d84518e92622f2d",
     "grade": true,
     "grade_id": "cell-88455db6ec580a98",
     "locked": true,
     "points": 2,
     "schema_version": 3,
     "solution": false,
     "task": false
    }
   },
   "outputs": [],
   "source": [
    "import numpy as np\n",
    "import pandas as pd\n",
    "df = pd.read_json(\"acc_team_rosters.json\")\n",
    "df.head()"
   ]
  },
  {
   "cell_type": "code",
   "execution_count": null,
   "metadata": {
    "deletable": false,
    "editable": false,
    "nbgrader": {
     "cell_type": "code",
     "checksum": "2b78a33a66e62f4ad364b535842cff12",
     "grade": true,
     "grade_id": "cell-5efb1fd0b7222ada",
     "locked": true,
     "points": 3,
     "schema_version": 3,
     "solution": false,
     "task": false
    }
   },
   "outputs": [],
   "source": [
    "assert df[df['team_id'] == 103]['team_name'][0] == 'Boston College Eagles'"
   ]
  }
 ],
 "metadata": {
  "kernelspec": {
   "display_name": "Python 3",
   "language": "python",
   "name": "python3"
  },
  "language_info": {
   "codemirror_mode": {
    "name": "ipython",
    "version": 3
   },
   "file_extension": ".py",
   "mimetype": "text/x-python",
   "name": "python",
   "nbconvert_exporter": "python",
   "pygments_lexer": "ipython3",
   "version": "3.8.3"
  }
 },
 "nbformat": 4,
 "nbformat_minor": 2
}
